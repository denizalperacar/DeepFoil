{
 "cells": [
  {
   "cell_type": "code",
   "execution_count": 1,
   "metadata": {},
   "outputs": [],
   "source": [
    "import multiprocessing as mp\n",
    "from glob import glob\n",
    "import os\n",
    "import subprocess as sp\n",
    "import shutil\n",
    "from time import time, sleep\n",
    "from threading import Timer\n",
    "import psutil"
   ]
  },
  {
   "cell_type": "code",
   "execution_count": 2,
   "metadata": {},
   "outputs": [],
   "source": [
    "cd = os.getcwd() + '/'\n",
    "wd = '{}/xf/runs/'.format(cd).replace('//', '/')"
   ]
  },
  {
   "cell_type": "code",
   "execution_count": 3,
   "metadata": {},
   "outputs": [],
   "source": [
    "num_proc = 3"
   ]
  },
  {
   "cell_type": "code",
   "execution_count": 4,
   "metadata": {},
   "outputs": [],
   "source": [
    "def get_dirs(wd):\n",
    "    rd = glob(wd+'/*')\n",
    "    r = {}\n",
    "    for i in rd:\n",
    "        r[i.replace(wd, '')] = {}\n",
    "        r[i.replace(wd, '')]['runs'] = [j.replace(i, '') for j in glob(i + '/*.run')]\n",
    "        r[i.replace(wd, '')]['starts'] = [j.replace(i, '') for j in glob(i + '/*.start')]\n",
    "        r[i.replace(wd, '')]['xf'] = [j.replace(i, '') for j in glob(i + '/*.start')]\n",
    "    return r\n",
    "\n",
    "def make_ds(wd):\n",
    "    r = get_dirs(wd)\n",
    "    ds = []\n",
    "    k = 0\n",
    "    for i in r.keys():\n",
    "        for j in r[i]['runs']:\n",
    "            if j[:-4]+'.start' not in r[i]['starts']:\n",
    "                ds.append([i, j, k])\n",
    "                k +=1\n",
    "    return ds\n",
    "\n",
    "def kill_porc(proc_pid):\n",
    "    process = psutil.Process(proc_pid)\n",
    "    for proc in process.children(recursive=True):\n",
    "        print(proc.pid)\n",
    "        proc.kill()\n",
    "    process.kill()\n",
    "    return\n",
    "\n",
    "def runs(oper):\n",
    "    af = oper[0]\n",
    "    rf = oper[1]\n",
    "    kk = oper[2]\n",
    "    \n",
    "    if kk % 5 == 0: \n",
    "        # delete the extra xfoil files\n",
    "        h = get_dirs(wd)\n",
    "        for fold in h.keys():\n",
    "            if (len(h[fold]['runs']) == len(h[fold]['runs'])) and os.path.exists(wd + '/' + fold):\n",
    "                try:\n",
    "                    os.remove(wd + '/' + fold + '/xfoil-6.97')\n",
    "                    print('deleted.')\n",
    "                except:\n",
    "                    varr = 0\n",
    "    \n",
    "    cwd = '{}/{}/'.format(wd, af).replace('//', '/')\n",
    "    if not os.path.exists('{}/xfoil-6.97'.format(cwd)):\n",
    "        shutil.copy('{}/xfoil-6.97'.format(cwd.replace('/runs/{}/'.format(af), '')), cwd)\n",
    "    \n",
    "    cmd = 'cd {}; xfoil < {}'.format(cwd,rf[1:]).replace('//', '/')\n",
    "    print(cmd)\n",
    "    with open('{}/{}.start'.format(cwd,rf[:-4]), 'w') as fidd:\n",
    "        fidd.write(str(time()))\n",
    "    kill = lambda process:process.kill()\n",
    "    prc = sp.Popen(cmd, preexec_fn=os.setsid, shell=True) \n",
    "    try:\n",
    "        prc.wait(60)\n",
    "    except:\n",
    "        kill_porc(prc.pid)\n",
    "    return\n",
    "\n",
    "def main(wd, core_num=3):\n",
    "    ds = make_ds(wd)\n",
    "    p = mp.Pool(processes=core_num)\n",
    "    p.imap(runs, ds)\n",
    "    p.close()\n",
    "    p.join()\n",
    "    return"
   ]
  },
  {
   "cell_type": "code",
   "execution_count": 5,
   "metadata": {},
   "outputs": [
    {
     "name": "stdout",
     "output_type": "stream",
     "text": [
      "CPU times: user 13.2 ms, sys: 8.77 ms, total: 22 ms\n",
      "Wall time: 119 ms\n"
     ]
    }
   ],
   "source": [
    "%%time\n",
    "main(wd, core_num=2)"
   ]
  },
  {
   "cell_type": "code",
   "execution_count": null,
   "metadata": {},
   "outputs": [],
   "source": []
  },
  {
   "cell_type": "code",
   "execution_count": null,
   "metadata": {},
   "outputs": [],
   "source": []
  }
 ],
 "metadata": {
  "kernelspec": {
   "display_name": "Python 3",
   "language": "python",
   "name": "python3"
  },
  "language_info": {
   "codemirror_mode": {
    "name": "ipython",
    "version": 3
   },
   "file_extension": ".py",
   "mimetype": "text/x-python",
   "name": "python",
   "nbconvert_exporter": "python",
   "pygments_lexer": "ipython3",
   "version": "3.7.6"
  }
 },
 "nbformat": 4,
 "nbformat_minor": 2
}
